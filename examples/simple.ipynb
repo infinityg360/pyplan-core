{
  "nbformat": 4,
  "nbformat_minor": 0,
  "metadata": {
    "kernelspec": {
      "display_name": "Python 3",
      "language": "python",
      "name": "python3"
    },
    "language_info": {
      "codemirror_mode": {
        "name": "ipython",
        "version": 3
      },
      "file_extension": ".py",
      "mimetype": "text/x-python",
      "name": "python",
      "nbconvert_exporter": "python",
      "pygments_lexer": "ipython3",
      "version": "3.7.4"
    },
    "colab": {
      "name": "simple.ipynb",
      "provenance": [],
      "collapsed_sections": []
    }
  },
  "cells": [
    {
      "cell_type": "markdown",
      "metadata": {
        "id": "8mXEj9I9qmc1",
        "colab_type": "text"
      },
      "source": [
        "# Example of use of pyplan-core library in jupyter notebook\n",
        "\n",
        "### Here is a simple model using data about COVID-19 \n",
        "\n",
        "\n",
        "---\n",
        "\n"
      ]
    },
    {
      "cell_type": "code",
      "metadata": {
        "id": "t_EsSYj3QOJy",
        "colab_type": "code",
        "colab": {}
      },
      "source": [
        "!pip install pandas==0.25.3\n",
        "!pip install --upgrade pyplan-core"
      ],
      "execution_count": 0,
      "outputs": []
    },
    {
      "cell_type": "code",
      "metadata": {
        "id": "JOSX1fJaQOJ3",
        "colab_type": "code",
        "colab": {}
      },
      "source": [
        "#Import and instance Pyplan \n",
        "from pyplan_core.pyplan import Pyplan\n",
        "pyplan = Pyplan()"
      ],
      "execution_count": 0,
      "outputs": []
    },
    {
      "cell_type": "code",
      "metadata": {
        "id": "0wFsYYF3QOJ7",
        "colab_type": "code",
        "outputId": "4d6f734b-e839-4be8-daac-879667246284",
        "colab": {
          "base_uri": "https://localhost:8080/",
          "height": 35
        }
      },
      "source": [
        "#Use included .ppl model file por sample purposes\n",
        "filename = pyplan.sample_models.use_of_pyplan_core()\n",
        "filename"
      ],
      "execution_count": 3,
      "outputs": [
        {
          "output_type": "execute_result",
          "data": {
            "text/plain": [
              "'/usr/local/lib/python3.6/dist-packages/pyplan_core/sample_models/Sample for Pyplan Core.ppl'"
            ]
          },
          "metadata": {
            "tags": []
          },
          "execution_count": 3
        }
      ]
    },
    {
      "cell_type": "code",
      "metadata": {
        "id": "nlcWSQ0MQOKA",
        "colab_type": "code",
        "colab": {}
      },
      "source": [
        "#Open the model\n",
        "pyplan.openModel(filename)"
      ],
      "execution_count": 0,
      "outputs": []
    },
    {
      "cell_type": "code",
      "metadata": {
        "id": "Aop9x8IeQOKE",
        "colab_type": "code",
        "outputId": "8e4cee48-f4f5-4f79-e0da-592a4dfe37e2",
        "colab": {
          "base_uri": "https://localhost:8080/",
          "height": 198
        }
      },
      "source": [
        "#Show list of nodes in model\n",
        "pyplan.getNodeList()"
      ],
      "execution_count": 5,
      "outputs": [
        {
          "output_type": "execute_result",
          "data": {
            "text/html": [
              "<div>\n",
              "<style scoped>\n",
              "    .dataframe tbody tr th:only-of-type {\n",
              "        vertical-align: middle;\n",
              "    }\n",
              "\n",
              "    .dataframe tbody tr th {\n",
              "        vertical-align: top;\n",
              "    }\n",
              "\n",
              "    .dataframe thead th {\n",
              "        text-align: right;\n",
              "    }\n",
              "</style>\n",
              "<table border=\"1\" class=\"dataframe\">\n",
              "  <thead>\n",
              "    <tr style=\"text-align: right;\">\n",
              "      <th></th>\n",
              "      <th>node_id</th>\n",
              "      <th>title</th>\n",
              "      <th>class</th>\n",
              "      <th>module_id</th>\n",
              "    </tr>\n",
              "  </thead>\n",
              "  <tbody>\n",
              "    <tr>\n",
              "      <th>0</th>\n",
              "      <td>data_source</td>\n",
              "      <td>Data source</td>\n",
              "      <td>variable</td>\n",
              "      <td>sample_for_pyplan_core</td>\n",
              "    </tr>\n",
              "    <tr>\n",
              "      <th>1</th>\n",
              "      <td>cases_by_country</td>\n",
              "      <td>Cases by Country</td>\n",
              "      <td>variable</td>\n",
              "      <td>sample_for_pyplan_core</td>\n",
              "    </tr>\n",
              "    <tr>\n",
              "      <th>2</th>\n",
              "      <td>country_list</td>\n",
              "      <td>Country List</td>\n",
              "      <td>variable</td>\n",
              "      <td>sample_for_pyplan_core</td>\n",
              "    </tr>\n",
              "    <tr>\n",
              "      <th>3</th>\n",
              "      <td>country_selector</td>\n",
              "      <td>Country Selector</td>\n",
              "      <td>decision</td>\n",
              "      <td>sample_for_pyplan_core</td>\n",
              "    </tr>\n",
              "    <tr>\n",
              "      <th>4</th>\n",
              "      <td>total_of_cases</td>\n",
              "      <td>Total of Cases</td>\n",
              "      <td>variable</td>\n",
              "      <td>sample_for_pyplan_core</td>\n",
              "    </tr>\n",
              "  </tbody>\n",
              "</table>\n",
              "</div>"
            ],
            "text/plain": [
              "            node_id             title     class               module_id\n",
              "0       data_source       Data source  variable  sample_for_pyplan_core\n",
              "1  cases_by_country  Cases by Country  variable  sample_for_pyplan_core\n",
              "2      country_list      Country List  variable  sample_for_pyplan_core\n",
              "3  country_selector  Country Selector  decision  sample_for_pyplan_core\n",
              "4    total_of_cases    Total of Cases  variable  sample_for_pyplan_core"
            ]
          },
          "metadata": {
            "tags": []
          },
          "execution_count": 5
        }
      ]
    },
    {
      "cell_type": "code",
      "metadata": {
        "id": "vKkZf42SQOKH",
        "colab_type": "code",
        "outputId": "30980cb2-d2e7-470d-e082-104df573a7f4",
        "colab": {
          "base_uri": "https://localhost:8080/",
          "height": 407
        }
      },
      "source": [
        "#Get node result\n",
        "df = pyplan.getResult(\"total_of_cases\")\n",
        "df"
      ],
      "execution_count": 6,
      "outputs": [
        {
          "output_type": "execute_result",
          "data": {
            "text/html": [
              "<div>\n",
              "<style scoped>\n",
              "    .dataframe tbody tr th:only-of-type {\n",
              "        vertical-align: middle;\n",
              "    }\n",
              "\n",
              "    .dataframe tbody tr th {\n",
              "        vertical-align: top;\n",
              "    }\n",
              "\n",
              "    .dataframe thead th {\n",
              "        text-align: right;\n",
              "    }\n",
              "</style>\n",
              "<table border=\"1\" class=\"dataframe\">\n",
              "  <thead>\n",
              "    <tr style=\"text-align: right;\">\n",
              "      <th></th>\n",
              "      <th>Country</th>\n",
              "      <th>Lat</th>\n",
              "      <th>Lon</th>\n",
              "      <th>Total</th>\n",
              "    </tr>\n",
              "  </thead>\n",
              "  <tbody>\n",
              "    <tr>\n",
              "      <th>0</th>\n",
              "      <td>Australia</td>\n",
              "      <td>-25.000000</td>\n",
              "      <td>133.000000</td>\n",
              "      <td>6754</td>\n",
              "    </tr>\n",
              "    <tr>\n",
              "      <th>1</th>\n",
              "      <td>Austria</td>\n",
              "      <td>47.516200</td>\n",
              "      <td>14.550100</td>\n",
              "      <td>15452</td>\n",
              "    </tr>\n",
              "    <tr>\n",
              "      <th>2</th>\n",
              "      <td>Canada</td>\n",
              "      <td>60.001000</td>\n",
              "      <td>-95.001000</td>\n",
              "      <td>53977</td>\n",
              "    </tr>\n",
              "    <tr>\n",
              "      <th>3</th>\n",
              "      <td>China</td>\n",
              "      <td>30.592800</td>\n",
              "      <td>114.305500</td>\n",
              "      <td>83944</td>\n",
              "    </tr>\n",
              "    <tr>\n",
              "      <th>4</th>\n",
              "      <td>Denmark</td>\n",
              "      <td>56.000000</td>\n",
              "      <td>10.000000</td>\n",
              "      <td>9356</td>\n",
              "    </tr>\n",
              "    <tr>\n",
              "      <th>...</th>\n",
              "      <td>...</td>\n",
              "      <td>...</td>\n",
              "      <td>...</td>\n",
              "      <td>...</td>\n",
              "    </tr>\n",
              "    <tr>\n",
              "      <th>182</th>\n",
              "      <td>West Bank and Gaza</td>\n",
              "      <td>31.952200</td>\n",
              "      <td>35.233200</td>\n",
              "      <td>344</td>\n",
              "    </tr>\n",
              "    <tr>\n",
              "      <th>183</th>\n",
              "      <td>Western Sahara</td>\n",
              "      <td>24.215500</td>\n",
              "      <td>-12.885800</td>\n",
              "      <td>6</td>\n",
              "    </tr>\n",
              "    <tr>\n",
              "      <th>184</th>\n",
              "      <td>Yemen</td>\n",
              "      <td>15.552727</td>\n",
              "      <td>48.516388</td>\n",
              "      <td>6</td>\n",
              "    </tr>\n",
              "    <tr>\n",
              "      <th>185</th>\n",
              "      <td>Zambia</td>\n",
              "      <td>-13.133897</td>\n",
              "      <td>27.849332</td>\n",
              "      <td>106</td>\n",
              "    </tr>\n",
              "    <tr>\n",
              "      <th>186</th>\n",
              "      <td>Zimbabwe</td>\n",
              "      <td>-19.015438</td>\n",
              "      <td>29.154857</td>\n",
              "      <td>40</td>\n",
              "    </tr>\n",
              "  </tbody>\n",
              "</table>\n",
              "<p>187 rows × 4 columns</p>\n",
              "</div>"
            ],
            "text/plain": [
              "                Country        Lat         Lon  Total\n",
              "0             Australia -25.000000  133.000000   6754\n",
              "1               Austria  47.516200   14.550100  15452\n",
              "2                Canada  60.001000  -95.001000  53977\n",
              "3                 China  30.592800  114.305500  83944\n",
              "4               Denmark  56.000000   10.000000   9356\n",
              "..                  ...        ...         ...    ...\n",
              "182  West Bank and Gaza  31.952200   35.233200    344\n",
              "183      Western Sahara  24.215500  -12.885800      6\n",
              "184               Yemen  15.552727   48.516388      6\n",
              "185              Zambia -13.133897   27.849332    106\n",
              "186            Zimbabwe -19.015438   29.154857     40\n",
              "\n",
              "[187 rows x 4 columns]"
            ]
          },
          "metadata": {
            "tags": []
          },
          "execution_count": 6
        }
      ]
    },
    {
      "cell_type": "code",
      "metadata": {
        "id": "Mq4kueDOQOKL",
        "colab_type": "code",
        "outputId": "b91d24f1-a9cb-484b-ff88-1bbfda803875",
        "colab": {
          "base_uri": "https://localhost:8080/",
          "height": 348
        }
      },
      "source": [
        "#Show top 10 Countries\n",
        "df = df.sort_values([\"Total\"], ascending=False).head(10)\n",
        "df"
      ],
      "execution_count": 7,
      "outputs": [
        {
          "output_type": "execute_result",
          "data": {
            "text/html": [
              "<div>\n",
              "<style scoped>\n",
              "    .dataframe tbody tr th:only-of-type {\n",
              "        vertical-align: middle;\n",
              "    }\n",
              "\n",
              "    .dataframe tbody tr th {\n",
              "        vertical-align: top;\n",
              "    }\n",
              "\n",
              "    .dataframe thead th {\n",
              "        text-align: right;\n",
              "    }\n",
              "</style>\n",
              "<table border=\"1\" class=\"dataframe\">\n",
              "  <thead>\n",
              "    <tr style=\"text-align: right;\">\n",
              "      <th></th>\n",
              "      <th>Country</th>\n",
              "      <th>Lat</th>\n",
              "      <th>Lon</th>\n",
              "      <th>Total</th>\n",
              "    </tr>\n",
              "  </thead>\n",
              "  <tbody>\n",
              "    <tr>\n",
              "      <th>17</th>\n",
              "      <td>US</td>\n",
              "      <td>40.000000</td>\n",
              "      <td>-100.000000</td>\n",
              "      <td>1056402</td>\n",
              "    </tr>\n",
              "    <tr>\n",
              "      <th>161</th>\n",
              "      <td>Spain</td>\n",
              "      <td>40.463667</td>\n",
              "      <td>-3.749220</td>\n",
              "      <td>239639</td>\n",
              "    </tr>\n",
              "    <tr>\n",
              "      <th>10</th>\n",
              "      <td>Italy</td>\n",
              "      <td>41.871900</td>\n",
              "      <td>12.567400</td>\n",
              "      <td>205463</td>\n",
              "    </tr>\n",
              "    <tr>\n",
              "      <th>16</th>\n",
              "      <td>United Kingdom</td>\n",
              "      <td>55.000000</td>\n",
              "      <td>-3.000000</td>\n",
              "      <td>172478</td>\n",
              "    </tr>\n",
              "    <tr>\n",
              "      <th>6</th>\n",
              "      <td>France</td>\n",
              "      <td>46.227600</td>\n",
              "      <td>2.213700</td>\n",
              "      <td>166628</td>\n",
              "    </tr>\n",
              "    <tr>\n",
              "      <th>7</th>\n",
              "      <td>Germany</td>\n",
              "      <td>51.165700</td>\n",
              "      <td>10.451500</td>\n",
              "      <td>162375</td>\n",
              "    </tr>\n",
              "    <tr>\n",
              "      <th>174</th>\n",
              "      <td>Turkey</td>\n",
              "      <td>38.963700</td>\n",
              "      <td>35.243300</td>\n",
              "      <td>120204</td>\n",
              "    </tr>\n",
              "    <tr>\n",
              "      <th>13</th>\n",
              "      <td>Russia</td>\n",
              "      <td>61.524000</td>\n",
              "      <td>105.318800</td>\n",
              "      <td>106498</td>\n",
              "    </tr>\n",
              "    <tr>\n",
              "      <th>90</th>\n",
              "      <td>Iran</td>\n",
              "      <td>32.427908</td>\n",
              "      <td>53.688046</td>\n",
              "      <td>94640</td>\n",
              "    </tr>\n",
              "    <tr>\n",
              "      <th>3</th>\n",
              "      <td>China</td>\n",
              "      <td>30.592800</td>\n",
              "      <td>114.305500</td>\n",
              "      <td>83944</td>\n",
              "    </tr>\n",
              "  </tbody>\n",
              "</table>\n",
              "</div>"
            ],
            "text/plain": [
              "            Country        Lat         Lon    Total\n",
              "17               US  40.000000 -100.000000  1056402\n",
              "161           Spain  40.463667   -3.749220   239639\n",
              "10            Italy  41.871900   12.567400   205463\n",
              "16   United Kingdom  55.000000   -3.000000   172478\n",
              "6            France  46.227600    2.213700   166628\n",
              "7           Germany  51.165700   10.451500   162375\n",
              "174          Turkey  38.963700   35.243300   120204\n",
              "13           Russia  61.524000  105.318800   106498\n",
              "90             Iran  32.427908   53.688046    94640\n",
              "3             China  30.592800  114.305500    83944"
            ]
          },
          "metadata": {
            "tags": []
          },
          "execution_count": 7
        }
      ]
    },
    {
      "cell_type": "code",
      "metadata": {
        "id": "iplecKQJQOKP",
        "colab_type": "code",
        "colab": {}
      },
      "source": [
        "#Close modelal\n",
        "pyplan.closeModel()"
      ],
      "execution_count": 0,
      "outputs": []
    },
    {
      "cell_type": "markdown",
      "metadata": {
        "id": "kxoaIJbOw-qI",
        "colab_type": "text"
      },
      "source": [
        "You can see the model used in this example [by clicking here](https://my.pyplan.org/#shared/49df9b20-39b4-4466-b10c-6920e6990d50)"
      ]
    }
  ]
}