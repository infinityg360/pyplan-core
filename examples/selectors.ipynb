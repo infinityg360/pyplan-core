{
  "nbformat": 4,
  "nbformat_minor": 0,
  "metadata": {
    "kernelspec": {
      "display_name": "Python 3",
      "language": "python",
      "name": "python3"
    },
    "language_info": {
      "codemirror_mode": {
        "name": "ipython",
        "version": 3
      },
      "file_extension": ".py",
      "mimetype": "text/x-python",
      "name": "python",
      "nbconvert_exporter": "python",
      "pygments_lexer": "ipython3",
      "version": "3.7.4"
    },
    "colab": {
      "name": "selectors.ipynb",
      "provenance": [],
      "collapsed_sections": []
    }
  },
  "cells": [
    {
      "cell_type": "markdown",
      "metadata": {
        "id": "8mXEj9I9qmc1",
        "colab_type": "text"
      },
      "source": [
        "# Example of use of pyplan-core library in jupyter notebook with selectors.\n",
        "\n",
        "### Here is a simple model using data about COVID-19 \n",
        "\n",
        "---\n",
        "\n"
      ]
    },
    {
      "cell_type": "code",
      "metadata": {
        "id": "t_EsSYj3QOJy",
        "colab_type": "code",
        "colab": {}
      },
      "source": [
        "!pip install pandas==0.25.3\n",
        "!pip install --upgrade pyplan-core"
      ],
      "execution_count": 0,
      "outputs": []
    },
    {
      "cell_type": "code",
      "metadata": {
        "id": "5rImAWpstrDN",
        "colab_type": "code",
        "colab": {}
      },
      "source": [
        "#Import and instance Pyplan \n",
        "from pyplan_core.pyplan import Pyplan\n",
        "pyplan = Pyplan()"
      ],
      "execution_count": 0,
      "outputs": []
    },
    {
      "cell_type": "code",
      "metadata": {
        "id": "LN82hQ1vtrDS",
        "colab_type": "code",
        "outputId": "dec2a4a5-d23e-42f6-fca5-ca4e17e161a7",
        "colab": {
          "base_uri": "https://localhost:8080/",
          "height": 35
        }
      },
      "source": [
        "#Use included .ppl model file por sample purposes\n",
        "filename = pyplan.sample_models.use_of_pyplan_core()\n",
        "filename"
      ],
      "execution_count": 3,
      "outputs": [
        {
          "output_type": "execute_result",
          "data": {
            "text/plain": [
              "'/usr/local/lib/python3.6/dist-packages/pyplan_core/sample_models/Sample for Pyplan Core.ppl'"
            ]
          },
          "metadata": {
            "tags": []
          },
          "execution_count": 3
        }
      ]
    },
    {
      "cell_type": "code",
      "metadata": {
        "id": "S6NgqFahtrDX",
        "colab_type": "code",
        "colab": {}
      },
      "source": [
        "#Open the model\n",
        "pyplan.openModel(filename)"
      ],
      "execution_count": 0,
      "outputs": []
    },
    {
      "cell_type": "code",
      "metadata": {
        "id": "e4mJ1f6StrDb",
        "colab_type": "code",
        "outputId": "2d812646-3e48-4890-aaf5-08c5087a31a7",
        "colab": {
          "base_uri": "https://localhost:8080/",
          "height": 198
        }
      },
      "source": [
        "#Show list of nodes in model\n",
        "pyplan.getNodeList()"
      ],
      "execution_count": 5,
      "outputs": [
        {
          "output_type": "execute_result",
          "data": {
            "text/html": [
              "<div>\n",
              "<style scoped>\n",
              "    .dataframe tbody tr th:only-of-type {\n",
              "        vertical-align: middle;\n",
              "    }\n",
              "\n",
              "    .dataframe tbody tr th {\n",
              "        vertical-align: top;\n",
              "    }\n",
              "\n",
              "    .dataframe thead th {\n",
              "        text-align: right;\n",
              "    }\n",
              "</style>\n",
              "<table border=\"1\" class=\"dataframe\">\n",
              "  <thead>\n",
              "    <tr style=\"text-align: right;\">\n",
              "      <th></th>\n",
              "      <th>node_id</th>\n",
              "      <th>title</th>\n",
              "      <th>class</th>\n",
              "      <th>module_id</th>\n",
              "    </tr>\n",
              "  </thead>\n",
              "  <tbody>\n",
              "    <tr>\n",
              "      <th>0</th>\n",
              "      <td>data_source</td>\n",
              "      <td>Data source</td>\n",
              "      <td>variable</td>\n",
              "      <td>sample_for_pyplan_core</td>\n",
              "    </tr>\n",
              "    <tr>\n",
              "      <th>1</th>\n",
              "      <td>cases_by_country</td>\n",
              "      <td>Cases by Country</td>\n",
              "      <td>variable</td>\n",
              "      <td>sample_for_pyplan_core</td>\n",
              "    </tr>\n",
              "    <tr>\n",
              "      <th>2</th>\n",
              "      <td>country_list</td>\n",
              "      <td>Country List</td>\n",
              "      <td>variable</td>\n",
              "      <td>sample_for_pyplan_core</td>\n",
              "    </tr>\n",
              "    <tr>\n",
              "      <th>3</th>\n",
              "      <td>country_selector</td>\n",
              "      <td>Country Selector</td>\n",
              "      <td>decision</td>\n",
              "      <td>sample_for_pyplan_core</td>\n",
              "    </tr>\n",
              "    <tr>\n",
              "      <th>4</th>\n",
              "      <td>total_of_cases</td>\n",
              "      <td>Total of Cases</td>\n",
              "      <td>variable</td>\n",
              "      <td>sample_for_pyplan_core</td>\n",
              "    </tr>\n",
              "  </tbody>\n",
              "</table>\n",
              "</div>"
            ],
            "text/plain": [
              "            node_id             title     class               module_id\n",
              "0       data_source       Data source  variable  sample_for_pyplan_core\n",
              "1  cases_by_country  Cases by Country  variable  sample_for_pyplan_core\n",
              "2      country_list      Country List  variable  sample_for_pyplan_core\n",
              "3  country_selector  Country Selector  decision  sample_for_pyplan_core\n",
              "4    total_of_cases    Total of Cases  variable  sample_for_pyplan_core"
            ]
          },
          "metadata": {
            "tags": []
          },
          "execution_count": 5
        }
      ]
    },
    {
      "cell_type": "code",
      "metadata": {
        "id": "1EdN8R9dtrDf",
        "colab_type": "code",
        "colab": {}
      },
      "source": [
        "#Get selector node\n",
        "selector = pyplan.getResult(node_id=\"country_selector\")"
      ],
      "execution_count": 0,
      "outputs": []
    },
    {
      "cell_type": "code",
      "metadata": {
        "id": "Y0CJH32TtrDj",
        "colab_type": "code",
        "colab": {}
      },
      "source": [
        "#Set selector to US\n",
        "us_position = selector.options.index(\"US\")\n",
        "pyplan.setSelectorValue(node_id=\"country_selector\",value=us_position)"
      ],
      "execution_count": 0,
      "outputs": []
    },
    {
      "cell_type": "code",
      "metadata": {
        "id": "BmmGKHKGtrDq",
        "colab_type": "code",
        "outputId": "b9f53701-4a4a-4c77-8922-5327701bdc92",
        "colab": {
          "base_uri": "https://localhost:8080/",
          "height": 78
        }
      },
      "source": [
        "#Get US cases\n",
        "df = pyplan.getResult(\"total_of_cases\")\n",
        "df"
      ],
      "execution_count": 8,
      "outputs": [
        {
          "output_type": "execute_result",
          "data": {
            "text/html": [
              "<div>\n",
              "<style scoped>\n",
              "    .dataframe tbody tr th:only-of-type {\n",
              "        vertical-align: middle;\n",
              "    }\n",
              "\n",
              "    .dataframe tbody tr th {\n",
              "        vertical-align: top;\n",
              "    }\n",
              "\n",
              "    .dataframe thead th {\n",
              "        text-align: right;\n",
              "    }\n",
              "</style>\n",
              "<table border=\"1\" class=\"dataframe\">\n",
              "  <thead>\n",
              "    <tr style=\"text-align: right;\">\n",
              "      <th></th>\n",
              "      <th>Country</th>\n",
              "      <th>Lat</th>\n",
              "      <th>Lon</th>\n",
              "      <th>Total</th>\n",
              "    </tr>\n",
              "  </thead>\n",
              "  <tbody>\n",
              "    <tr>\n",
              "      <th>17</th>\n",
              "      <td>US</td>\n",
              "      <td>40.0</td>\n",
              "      <td>-100.0</td>\n",
              "      <td>1056402</td>\n",
              "    </tr>\n",
              "  </tbody>\n",
              "</table>\n",
              "</div>"
            ],
            "text/plain": [
              "   Country   Lat    Lon    Total\n",
              "17      US  40.0 -100.0  1056402"
            ]
          },
          "metadata": {
            "tags": []
          },
          "execution_count": 8
        }
      ]
    },
    {
      "cell_type": "code",
      "metadata": {
        "id": "eJZ7LdxAtrDu",
        "colab_type": "code",
        "colab": {}
      },
      "source": [
        "#Set selector to China\n",
        "us_position = selector.options.index(\"China\")\n",
        "pyplan.setSelectorValue(node_id=\"country_selector\",value=us_position)"
      ],
      "execution_count": 0,
      "outputs": []
    },
    {
      "cell_type": "code",
      "metadata": {
        "id": "Bu2I4vE2trDy",
        "colab_type": "code",
        "outputId": "035fcaec-6873-449d-a7a4-6a861a9b867c",
        "colab": {
          "base_uri": "https://localhost:8080/",
          "height": 78
        }
      },
      "source": [
        "#Get China cases\n",
        "df = pyplan.getResult(\"total_of_cases\")\n",
        "df"
      ],
      "execution_count": 10,
      "outputs": [
        {
          "output_type": "execute_result",
          "data": {
            "text/html": [
              "<div>\n",
              "<style scoped>\n",
              "    .dataframe tbody tr th:only-of-type {\n",
              "        vertical-align: middle;\n",
              "    }\n",
              "\n",
              "    .dataframe tbody tr th {\n",
              "        vertical-align: top;\n",
              "    }\n",
              "\n",
              "    .dataframe thead th {\n",
              "        text-align: right;\n",
              "    }\n",
              "</style>\n",
              "<table border=\"1\" class=\"dataframe\">\n",
              "  <thead>\n",
              "    <tr style=\"text-align: right;\">\n",
              "      <th></th>\n",
              "      <th>Country</th>\n",
              "      <th>Lat</th>\n",
              "      <th>Lon</th>\n",
              "      <th>Total</th>\n",
              "    </tr>\n",
              "  </thead>\n",
              "  <tbody>\n",
              "    <tr>\n",
              "      <th>3</th>\n",
              "      <td>China</td>\n",
              "      <td>30.5928</td>\n",
              "      <td>114.3055</td>\n",
              "      <td>83944</td>\n",
              "    </tr>\n",
              "  </tbody>\n",
              "</table>\n",
              "</div>"
            ],
            "text/plain": [
              "  Country      Lat       Lon  Total\n",
              "3   China  30.5928  114.3055  83944"
            ]
          },
          "metadata": {
            "tags": []
          },
          "execution_count": 10
        }
      ]
    },
    {
      "cell_type": "code",
      "metadata": {
        "id": "hAL2Y5L3trD2",
        "colab_type": "code",
        "colab": {}
      },
      "source": [
        "#Close modelal\n",
        "pyplan.closeModel()"
      ],
      "execution_count": 0,
      "outputs": []
    },
    {
      "cell_type": "markdown",
      "metadata": {
        "id": "ODYLLPJOvOE6",
        "colab_type": "text"
      },
      "source": [
        "You can see the model used in this example [by clicking here](https://my.pyplan.org/#shared/49df9b20-39b4-4466-b10c-6920e6990d50)"
      ]
    }
  ]
}